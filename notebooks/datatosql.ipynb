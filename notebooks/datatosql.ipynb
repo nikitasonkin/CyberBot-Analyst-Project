{
 "cells": [
  {
   "cell_type": "markdown",
   "id": "c4b4fae1-a742-436a-8c4a-f98b2eb57abe",
   "metadata": {},
   "source": [
    "#### Creating a connection to SQL Server using SQLAlchemy and ODBC, to allow loading JSON tables into the database."
   ]
  },
  {
   "cell_type": "code",
   "execution_count": 9,
   "id": "f0768ef7-5663-4ff3-81f2-5be1a0df6d3a",
   "metadata": {},
   "outputs": [],
   "source": [
    "import pandas as pd\n",
    "from sqlalchemy import create_engine\n",
    "import json\n",
    "import pyodbc"
   ]
  },
  {
   "cell_type": "code",
   "execution_count": 10,
   "id": "835bd43f-0965-4272-9474-a21b6668a30b",
   "metadata": {},
   "outputs": [],
   "source": [
    "# SQL Server connection settings\n",
    "server = 'NIKITA-PC'\n",
    "database = 'CyberNewsBot'\n",
    "driver = 'ODBC Driver 17 for SQL Server'\n",
    "\n",
    "connection_string = (\n",
    "    f\"mssql+pyodbc://@{server}/{database}\"\n",
    "    f\"?driver={driver.replace(' ', '+')}&Trusted_Connection=yes\"\n",
    ")\n",
    "engine = create_engine(connection_string)\n"
   ]
  },
  {
   "cell_type": "markdown",
   "id": "804a81fc-5f2a-4497-8c4c-d9eb3f7da7a9",
   "metadata": {},
   "source": [
    "### 🔹 Step 1: Loading Posted News json file"
   ]
  },
  {
   "cell_type": "markdown",
   "id": "65ae56d8-53e5-4f89-bc00-dc5b4bb13889",
   "metadata": {},
   "source": [
    "#####     1.Load the posted_news_ud.json file.\n",
    "#####     2.Convert the keywords column to a string.\n",
    "#####     3.Check if an article already exists by text_hash.\n",
    "#####     4.Load only the latest news into the PostedNews table."
   ]
  },
  {
   "cell_type": "code",
   "execution_count": 11,
   "id": "af3143ef-55e2-4b84-a7c0-cec92d9ff7e4",
   "metadata": {},
   "outputs": [
    {
     "name": "stdout",
     "output_type": "stream",
     "text": [
      "✅ Loaded 2335 new articles to PostedNews.\n"
     ]
    }
   ],
   "source": [
    "# Reading from JSON file\n",
    "posted_df = pd.read_json(\"posted_news_ud.json\")\n",
    "\n",
    "# Convert keywords to a comma-separated string list\n",
    "if 'keywords' in posted_df.columns:\n",
    "    posted_df['keywords'] = posted_df['keywords'].apply(\n",
    "        lambda x: ','.join(x) if isinstance(x, list) else str(x)\n",
    "    )\n",
    "\n",
    "#  Filter duplicates by text_hash\n",
    "existing_hashes = pd.read_sql(\"SELECT text_hash FROM PostedNews\", con=engine)\n",
    "new_posted_df = posted_df[~posted_df['text_hash'].isin(set(existing_hashes['text_hash']))]\n",
    "\n",
    "# Loading into the database\n",
    "if not new_posted_df.empty:\n",
    "    new_posted_df.to_sql(\"PostedNews\", con=engine, if_exists=\"append\", index=False, chunksize=1000)\n",
    "    print(f\"✅ Loaded {len(new_posted_df)} new articles to PostedNews.\")\n",
    "else:\n",
    "    print(\"ℹ️ No new articles to load into PostedNews.\")\n"
   ]
  },
  {
   "cell_type": "markdown",
   "id": "b130870c-606b-4f42-b139-bffcb4629575",
   "metadata": {},
   "source": [
    "### 🔹 Step 2: Loading SkippedNews json file"
   ]
  },
  {
   "cell_type": "markdown",
   "id": "dfd46de8-dfbc-421b-b3b3-46854fc2c79c",
   "metadata": {},
   "source": [
    "#####     1.Load the dictionary from skipped_news_ud.json.\n",
    "#####     2.Check if an article already exists by text_hash\n",
    "#####     3.Load only the latest news into the SkippedNews table\n"
   ]
  },
  {
   "cell_type": "code",
   "execution_count": 12,
   "id": "a04b0032-6463-4ed8-820d-2c5d0df98fbe",
   "metadata": {},
   "outputs": [
    {
     "name": "stdout",
     "output_type": "stream",
     "text": [
      "Loaded 1514 new articles to SkippedNews.\n"
     ]
    }
   ],
   "source": [
    "# Reading from JSON file\n",
    "with open(r\"skipped_news_ud.json\", encoding='utf-8') as f:\n",
    "    skipped_data = list(json.load(f).values())\n",
    "skipped_df = pd.DataFrame(skipped_data)\n",
    "\n",
    "#  Filter duplicates by text_hash\n",
    "existing_skipped = pd.read_sql(\"SELECT text_hash FROM SkippedNews\", con=engine)\n",
    "new_skipped_df = skipped_df[~skipped_df['text_hash'].isin(set(existing_skipped['text_hash']))]\n",
    "new_skipped_df = new_skipped_df.drop_duplicates(subset='text_hash')\n",
    "\n",
    "# Loading into the database\n",
    "if not new_skipped_df.empty:\n",
    "    new_skipped_df.to_sql(\"SkippedNews\", con=engine, if_exists=\"append\", index=False, chunksize=1000)\n",
    "    print(f\"Loaded {len(new_skipped_df)} new articles to SkippedNews.\")\n",
    "else:\n",
    "    print(\"No new articles to load into SkippedNews.\")\n"
   ]
  },
  {
   "cell_type": "markdown",
   "id": "11bb5fc7-8f53-4664-a4ce-dfdefba5c38a",
   "metadata": {},
   "source": [
    "### Step 3: General tests\n",
    "#Print some examples of the failed articles and perform a Missing Values ​​check to monitor data quality."
   ]
  },
  {
   "cell_type": "code",
   "execution_count": 13,
   "id": "593d8a45-cf64-41a2-898e-62fc731facf9",
   "metadata": {},
   "outputs": [
    {
     "name": "stdout",
     "output_type": "stream",
     "text": [
      "\n",
      " Sample of newly skipped articles:\n",
      "                                               title  \\\n",
      "0  UK retail giant Co-op warns of disruption as i...   \n",
      "1  Cyber charter school reform tops legislative a...   \n",
      "2  Harrods is latest British retailer to be hit b...   \n",
      "\n",
      "                               reason  \n",
      "0           Duplicate by summary hash  \n",
      "1  Article text is empty or too short  \n",
      "2  Article text is empty or too short  \n",
      "\n",
      " Missing value check (SkippedNews):\n",
      "title             0\n",
      "url               0\n",
      "fail_count        0\n",
      "date              0\n",
      "reason            0\n",
      "text_hash         0\n",
      "summary           0\n",
      "source            0\n",
      "published_date    0\n",
      "published_time    0\n",
      "rss_source        0\n",
      "dtype: int64\n"
     ]
    }
   ],
   "source": [
    "print(\"\\n Sample of newly skipped articles:\")\n",
    "print(new_skipped_df[['title', 'reason']].head(3))\n",
    "\n",
    "print(\"\\n Missing value check (SkippedNews):\")\n",
    "print(new_skipped_df.isnull().sum())\n"
   ]
  },
  {
   "cell_type": "code",
   "execution_count": null,
   "id": "bb28d490-e23f-430c-81ad-251f872ca259",
   "metadata": {},
   "outputs": [],
   "source": []
  },
  {
   "cell_type": "code",
   "execution_count": null,
   "id": "5f3fe958-9760-4d62-9002-7ae5f86d2a67",
   "metadata": {},
   "outputs": [],
   "source": []
  },
  {
   "cell_type": "code",
   "execution_count": null,
   "id": "a2a27286-cea6-4fe9-b3fa-eb5ada634749",
   "metadata": {},
   "outputs": [],
   "source": []
  },
  {
   "cell_type": "code",
   "execution_count": null,
   "id": "61eb15c8-d48f-4770-b885-678a1d893670",
   "metadata": {},
   "outputs": [],
   "source": []
  },
  {
   "cell_type": "code",
   "execution_count": null,
   "id": "f195ec73-2eb9-4203-a985-c1b408de61d7",
   "metadata": {},
   "outputs": [],
   "source": []
  }
 ],
 "metadata": {
  "kernelspec": {
   "display_name": "Python 3 (ipykernel)",
   "language": "python",
   "name": "python3"
  },
  "language_info": {
   "codemirror_mode": {
    "name": "ipython",
    "version": 3
   },
   "file_extension": ".py",
   "mimetype": "text/x-python",
   "name": "python",
   "nbconvert_exporter": "python",
   "pygments_lexer": "ipython3",
   "version": "3.13.2"
  }
 },
 "nbformat": 4,
 "nbformat_minor": 5
}
